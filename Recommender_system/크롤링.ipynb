{
  "nbformat": 4,
  "nbformat_minor": 0,
  "metadata": {
    "colab": {
      "provenance": []
    },
    "kernelspec": {
      "name": "python3",
      "display_name": "Python 3"
    },
    "language_info": {
      "name": "python"
    }
  },
  "cells": [
    {
      "cell_type": "code",
      "execution_count": 1,
      "metadata": {
        "colab": {
          "base_uri": "https://localhost:8080/"
        },
        "id": "1eHVvGy_0Gu_",
        "outputId": "e20a474b-7fe5-45ac-d15d-28c1d5e9f2bc"
      },
      "outputs": [
        {
          "output_type": "stream",
          "name": "stdout",
          "text": [
            "Requirement already satisfied: requests in /usr/local/lib/python3.10/dist-packages (2.32.3)\n",
            "Requirement already satisfied: beautifulsoup4 in /usr/local/lib/python3.10/dist-packages (4.12.3)\n",
            "Requirement already satisfied: charset-normalizer<4,>=2 in /usr/local/lib/python3.10/dist-packages (from requests) (3.4.0)\n",
            "Requirement already satisfied: idna<4,>=2.5 in /usr/local/lib/python3.10/dist-packages (from requests) (3.10)\n",
            "Requirement already satisfied: urllib3<3,>=1.21.1 in /usr/local/lib/python3.10/dist-packages (from requests) (2.2.3)\n",
            "Requirement already satisfied: certifi>=2017.4.17 in /usr/local/lib/python3.10/dist-packages (from requests) (2024.8.30)\n",
            "Requirement already satisfied: soupsieve>1.2 in /usr/local/lib/python3.10/dist-packages (from beautifulsoup4) (2.6)\n"
          ]
        }
      ],
      "source": []
    },
    {
      "cell_type": "code",
      "source": [
        "!pip install requests beautifulsoup4\n",
        "\n",
        "import os\n",
        "import requests\n",
        "from bs4 import BeautifulSoup\n",
        "\n",
        "\n",
        "urls = [\n",
        "    \"https://m.bizforms.co.kr/smartblock/view.asp?sm_idx=71\",\n",
        "    \"https://blog.naver.com/agape1789/221092527535\",\n",
        "    \"https://blog.naver.com/jongdallab/221932756998\",\n",
        "    \"https://50plus.or.kr/detail.do?id=11018705\",\n",
        "    \"https://www.nterway.com/magazine/view.asp?gubun=tip&idx=1431&Gotopage=1\",\n",
        "    \"https://www.icolor.io/icolor/v3/main/show_personal_color_new?tone=7&user_no=328450\",\n",
        "    \"https://mobile.missyusa.com/mainpage/boards/board_read.asp?idx=3980101&id=talk6&ref=1953462&step=1&level=0\",\n",
        "    \"https://www.fneyefocus.com/news/articleView.html?idxno=15241\",\n",
        "    \"https://namu.wiki/w/%ED%8D%BC%EC%8A%A4%EB%84%90%20%EC%BB%AC%EB%9F%AC\",\n",
        "    \"https://brunch.co.kr/@scarlettjang/33\",\n",
        "    \"https://www.4xr.co.kr/bbs/read.php?index_no=14330&boardid=issue&srsltid=AfmBOoqdimwQoURT05vO56ay8-ee5r2imaKR8e1xjoydOM7SiUCaVVpR\",\n",
        "    \"https://blog.insilicogen.com/141\",\n",
        "    \"https://www.chop.kr/17/?bmode=view&idx=12279818\",\n",
        "    \"https://v.daum.net/v/kyNfmcp1wN\",\n",
        "    \"https://www.kbgoldenlifex.com/senior/XAA72P05020.kb?bltsDstcd=01&bltsSerno=2504&ctntDstcd=08\",\n",
        "    \"https://www.mk.co.kr/news/all/7980699\",\n",
        "    \"https://www.mhns.co.kr/news/articleView.html?idxno=412697\"\n",
        "]\n",
        "\n",
        "\n",
        "\n",
        "save_folder = \"winter\"\n",
        "\n",
        "os.makedirs(save_folder, exist_ok=True)\n",
        "\n",
        "headers = {\n",
        "    'User-Agent': 'Mozilla/5.0 (Windows NT 10.0; Win64; x64) AppleWebKit/537.36 (KHTML, like Gecko) Chrome/91.0.4472.124 Safari/537.36'\n",
        "}\n",
        "\n",
        "for idx, url in enumerate(urls, start=1):\n",
        "    response = requests.get(url, headers=headers)\n",
        "\n",
        "\n",
        "    file_name = os.path.join(save_folder, f'winter{idx}.txt')\n",
        "\n",
        "    if response.status_code == 200:\n",
        "\n",
        "        soup = BeautifulSoup(response.text, 'html.parser')\n",
        "\n",
        "\n",
        "        paragraphs = soup.find_all('p')\n",
        "\n",
        "\n",
        "        with open(file_name, 'w', encoding='utf-8') as file:\n",
        "            for para in paragraphs:\n",
        "                file.write(para.get_text(strip=True) + '\\n')\n",
        "\n",
        "        print(f\"[SUCCESS] Data from {url} saved to {file_name}\")\n",
        "    else:\n",
        "        print(f\"[ERROR] Failed to retrieve {url}. Status code: {response.status_code}\")\n"
      ],
      "metadata": {
        "colab": {
          "base_uri": "https://localhost:8080/"
        },
        "id": "sV7eoCPc1hrt",
        "outputId": "79da855e-f059-48b1-86f7-a71e14d4b77a"
      },
      "execution_count": 18,
      "outputs": [
        {
          "output_type": "stream",
          "name": "stdout",
          "text": [
            "[SUCCESS] Data from https://m.bizforms.co.kr/smartblock/view.asp?sm_idx=71 saved to winter/winter1.txt\n",
            "[SUCCESS] Data from https://blog.naver.com/agape1789/221092527535 saved to winter/winter2.txt\n",
            "[SUCCESS] Data from https://blog.naver.com/jongdallab/221932756998 saved to winter/winter3.txt\n",
            "[SUCCESS] Data from https://50plus.or.kr/detail.do?id=11018705 saved to winter/winter4.txt\n",
            "[SUCCESS] Data from https://www.nterway.com/magazine/view.asp?gubun=tip&idx=1431&Gotopage=1 saved to winter/winter5.txt\n",
            "[SUCCESS] Data from https://www.icolor.io/icolor/v3/main/show_personal_color_new?tone=7&user_no=328450 saved to winter/winter6.txt\n",
            "[SUCCESS] Data from https://mobile.missyusa.com/mainpage/boards/board_read.asp?idx=3980101&id=talk6&ref=1953462&step=1&level=0 saved to winter/winter7.txt\n",
            "[SUCCESS] Data from https://www.fneyefocus.com/news/articleView.html?idxno=15241 saved to winter/winter8.txt\n",
            "[ERROR] Failed to retrieve https://namu.wiki/w/%ED%8D%BC%EC%8A%A4%EB%84%90%20%EC%BB%AC%EB%9F%AC. Status code: 403\n",
            "[SUCCESS] Data from https://brunch.co.kr/@scarlettjang/33 saved to winter/winter10.txt\n",
            "[SUCCESS] Data from https://www.4xr.co.kr/bbs/read.php?index_no=14330&boardid=issue&srsltid=AfmBOoqdimwQoURT05vO56ay8-ee5r2imaKR8e1xjoydOM7SiUCaVVpR saved to winter/winter11.txt\n",
            "[SUCCESS] Data from https://blog.insilicogen.com/141 saved to winter/winter12.txt\n",
            "[SUCCESS] Data from https://www.chop.kr/17/?bmode=view&idx=12279818 saved to winter/winter13.txt\n",
            "[SUCCESS] Data from https://v.daum.net/v/kyNfmcp1wN saved to winter/winter14.txt\n",
            "[SUCCESS] Data from https://www.kbgoldenlifex.com/senior/XAA72P05020.kb?bltsDstcd=01&bltsSerno=2504&ctntDstcd=08 saved to winter/winter15.txt\n",
            "[SUCCESS] Data from https://www.mk.co.kr/news/all/7980699 saved to winter/winter16.txt\n",
            "[SUCCESS] Data from https://www.mhns.co.kr/news/articleView.html?idxno=412697 saved to winter/winter17.txt\n"
          ]
        }
      ]
    },
    {
      "cell_type": "code",
      "source": [],
      "metadata": {
        "id": "ZX4FaJPh14XJ"
      },
      "execution_count": 12,
      "outputs": []
    }
  ]
}